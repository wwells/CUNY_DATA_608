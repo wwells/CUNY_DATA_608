{
 "cells": [
  {
   "cell_type": "markdown",
   "metadata": {},
   "source": [
    "# Hudson River:   Enterococcus Study\n",
    "\n",
    "__Walt Wells, Fall 2017__"
   ]
  },
  {
   "cell_type": "markdown",
   "metadata": {},
   "source": [
    "## Data Source"
   ]
  },
  {
   "cell_type": "markdown",
   "metadata": {},
   "source": [
    "Riverkeeper ( http://www.riverkeeper.org/)\n",
    "\n",
    "__Provided Background:__ Enterococcus is a fecal indicating bacteria that lives in the intestines of humans and other warm-blooded animals. Enterococcus (“ Entero”) counts are useful as a water quality indicator due to their abundance in human sewage, correlation with many human pathogens and low abundance in sewage free environments. The United States Environmental Protection Agency (EPA) reports Entero counts as colonies (or cells) per 100 ml of water.\n",
    "\n",
    "Riverkeeper has based its assessment of acceptable water quality on the 2012 Federal Recreational Water Quality Criteria from the US EPA. Unacceptable water is based on an illness rate of 32 per 1000 swimmers. The federal standard for unacceptable water quality is a single sample value of greater than 110 Enterococcus/100 mL, or five or more samples with a geometric mean (a weighted average) greater than 30 Enterococcus/100 mL.\n",
    "\n",
    "__Additional Methodology:__  \n",
    "\n",
    "\"To avoid exposure to chronic contamination, the geometric mean, a weighted 30-day average, should not exceed 30 cells/100 mL. To avoid exposure to occasional high levels of contamination, no more than 10% of samples should exceed 110 cells/100 mL. Efforts should be made to reduce pollution in recreational waters that exceed these long term measures of water quality.\"\n",
    "\n",
    "More information:\n",
    "* https://www.riverkeeper.org/water-quality/testing/what/\n",
    "* https://www.riverkeeper.org/blogs/boat-blog/hudson-water-quality-report-data-from-may-river-patrol/\n",
    "* https://www.riverkeeper.org/water-quality/hudson-river/albany-rensselaer/hudson-above-mohawk-river/"
   ]
  },
  {
   "cell_type": "markdown",
   "metadata": {},
   "source": [
    "## Environment Prep"
   ]
  },
  {
   "cell_type": "code",
   "execution_count": 1,
   "metadata": {
    "collapsed": true
   },
   "outputs": [],
   "source": [
    "import pandas as pd\n",
    "import numpy as np\n",
    "import matplotlib.pyplot as plt\n",
    "import seaborn as sns\n",
    "%matplotlib inline\n",
    "import warnings\n",
    "warnings.filterwarnings('ignore')"
   ]
  },
  {
   "cell_type": "markdown",
   "metadata": {},
   "source": [
    "## Data Prep"
   ]
  },
  {
   "cell_type": "code",
   "execution_count": 2,
   "metadata": {},
   "outputs": [
    {
     "name": "stdout",
     "output_type": "stream",
     "text": [
      "Site                 object\n",
      "Date                 object\n",
      "EnteroCount          object\n",
      "FourDayRainTotal    float64\n",
      "SampleCount           int64\n",
      "dtype: object\n",
      "(3397, 5)\n"
     ]
    },
    {
     "data": {
      "text/html": [
       "<div>\n",
       "<table border=\"1\" class=\"dataframe\">\n",
       "  <thead>\n",
       "    <tr style=\"text-align: right;\">\n",
       "      <th></th>\n",
       "      <th>Site</th>\n",
       "      <th>Date</th>\n",
       "      <th>EnteroCount</th>\n",
       "      <th>FourDayRainTotal</th>\n",
       "      <th>SampleCount</th>\n",
       "    </tr>\n",
       "  </thead>\n",
       "  <tbody>\n",
       "    <tr>\n",
       "      <th>0</th>\n",
       "      <td>Hudson above Mohawk River</td>\n",
       "      <td>10/16/2011</td>\n",
       "      <td>1733</td>\n",
       "      <td>1.5</td>\n",
       "      <td>35</td>\n",
       "    </tr>\n",
       "    <tr>\n",
       "      <th>1</th>\n",
       "      <td>Hudson above Mohawk River</td>\n",
       "      <td>10/21/2013</td>\n",
       "      <td>4</td>\n",
       "      <td>0.2</td>\n",
       "      <td>35</td>\n",
       "    </tr>\n",
       "    <tr>\n",
       "      <th>2</th>\n",
       "      <td>Hudson above Mohawk River</td>\n",
       "      <td>9/21/2013</td>\n",
       "      <td>20</td>\n",
       "      <td>0.0</td>\n",
       "      <td>35</td>\n",
       "    </tr>\n",
       "    <tr>\n",
       "      <th>3</th>\n",
       "      <td>Hudson above Mohawk River</td>\n",
       "      <td>8/19/2013</td>\n",
       "      <td>6</td>\n",
       "      <td>0.0</td>\n",
       "      <td>35</td>\n",
       "    </tr>\n",
       "    <tr>\n",
       "      <th>4</th>\n",
       "      <td>Hudson above Mohawk River</td>\n",
       "      <td>7/21/2013</td>\n",
       "      <td>31</td>\n",
       "      <td>0.0</td>\n",
       "      <td>35</td>\n",
       "    </tr>\n",
       "  </tbody>\n",
       "</table>\n",
       "</div>"
      ],
      "text/plain": [
       "                        Site        Date EnteroCount  FourDayRainTotal  \\\n",
       "0  Hudson above Mohawk River  10/16/2011        1733               1.5   \n",
       "1  Hudson above Mohawk River  10/21/2013           4               0.2   \n",
       "2  Hudson above Mohawk River   9/21/2013          20               0.0   \n",
       "3  Hudson above Mohawk River   8/19/2013           6               0.0   \n",
       "4  Hudson above Mohawk River   7/21/2013          31               0.0   \n",
       "\n",
       "   SampleCount  \n",
       "0           35  \n",
       "1           35  \n",
       "2           35  \n",
       "3           35  \n",
       "4           35  "
      ]
     },
     "execution_count": 2,
     "metadata": {},
     "output_type": "execute_result"
    }
   ],
   "source": [
    "df = pd.read_csv('https://raw.githubusercontent.com/charleyferrari/CUNY_DATA608/master/lecture4/Data/riverkeeper_data_2013.csv')\n",
    "print df.dtypes\n",
    "print df.shape\n",
    "df.head()"
   ]
  },
  {
   "cell_type": "code",
   "execution_count": 3,
   "metadata": {},
   "outputs": [
    {
     "name": "stdout",
     "output_type": "stream",
     "text": [
      "<10    528\n",
      "10     289\n",
      "20     148\n",
      "2       83\n",
      "4       78\n",
      "Name: EnteroCount, dtype: int64\n",
      "10    817\n",
      "20    148\n",
      "1     121\n",
      "2      83\n",
      "4      78\n",
      "Name: EnteroCount, dtype: int64\n"
     ]
    }
   ],
   "source": [
    "print df['EnteroCount'].value_counts().head()\n",
    "\n",
    "## We see that a choice was made to show signs like greater than or less than values.   \n",
    "## For now, we'll strip punctuation and replace with the number boundary.   \n",
    "\n",
    "df['EnteroCount'] = df['EnteroCount'].str.replace('[^\\w\\s]','')\n",
    "df['EnteroCount'] = pd.to_numeric(df['EnteroCount'])\n",
    "print df['EnteroCount'].value_counts().head()"
   ]
  },
  {
   "cell_type": "code",
   "execution_count": 4,
   "metadata": {},
   "outputs": [
    {
     "name": "stdout",
     "output_type": "stream",
     "text": [
      "Site                      category\n",
      "Date                datetime64[ns]\n",
      "EnteroCount                  int64\n",
      "FourDayRainTotal           float64\n",
      "SampleCount                  int64\n",
      "dtype: object\n"
     ]
    },
    {
     "data": {
      "text/html": [
       "<div>\n",
       "<table border=\"1\" class=\"dataframe\">\n",
       "  <thead>\n",
       "    <tr style=\"text-align: right;\">\n",
       "      <th></th>\n",
       "      <th>Site</th>\n",
       "      <th>Date</th>\n",
       "      <th>EnteroCount</th>\n",
       "      <th>FourDayRainTotal</th>\n",
       "      <th>SampleCount</th>\n",
       "    </tr>\n",
       "  </thead>\n",
       "  <tbody>\n",
       "    <tr>\n",
       "      <th>0</th>\n",
       "      <td>Hudson above Mohawk River</td>\n",
       "      <td>2011-10-16</td>\n",
       "      <td>1733</td>\n",
       "      <td>1.5</td>\n",
       "      <td>35</td>\n",
       "    </tr>\n",
       "    <tr>\n",
       "      <th>1</th>\n",
       "      <td>Hudson above Mohawk River</td>\n",
       "      <td>2013-10-21</td>\n",
       "      <td>4</td>\n",
       "      <td>0.2</td>\n",
       "      <td>35</td>\n",
       "    </tr>\n",
       "    <tr>\n",
       "      <th>2</th>\n",
       "      <td>Hudson above Mohawk River</td>\n",
       "      <td>2013-09-21</td>\n",
       "      <td>20</td>\n",
       "      <td>0.0</td>\n",
       "      <td>35</td>\n",
       "    </tr>\n",
       "    <tr>\n",
       "      <th>3</th>\n",
       "      <td>Hudson above Mohawk River</td>\n",
       "      <td>2013-08-19</td>\n",
       "      <td>6</td>\n",
       "      <td>0.0</td>\n",
       "      <td>35</td>\n",
       "    </tr>\n",
       "    <tr>\n",
       "      <th>4</th>\n",
       "      <td>Hudson above Mohawk River</td>\n",
       "      <td>2013-07-21</td>\n",
       "      <td>31</td>\n",
       "      <td>0.0</td>\n",
       "      <td>35</td>\n",
       "    </tr>\n",
       "  </tbody>\n",
       "</table>\n",
       "</div>"
      ],
      "text/plain": [
       "                        Site       Date  EnteroCount  FourDayRainTotal  \\\n",
       "0  Hudson above Mohawk River 2011-10-16         1733               1.5   \n",
       "1  Hudson above Mohawk River 2013-10-21            4               0.2   \n",
       "2  Hudson above Mohawk River 2013-09-21           20               0.0   \n",
       "3  Hudson above Mohawk River 2013-08-19            6               0.0   \n",
       "4  Hudson above Mohawk River 2013-07-21           31               0.0   \n",
       "\n",
       "   SampleCount  \n",
       "0           35  \n",
       "1           35  \n",
       "2           35  \n",
       "3           35  \n",
       "4           35  "
      ]
     },
     "execution_count": 4,
     "metadata": {},
     "output_type": "execute_result"
    }
   ],
   "source": [
    "df['Date'] = pd.Series([pd.to_datetime(d) for d in df['Date']])\n",
    "df['Site'] = df['Site'].astype('category')\n",
    "\n",
    "print df.dtypes\n",
    "df.head()"
   ]
  },
  {
   "cell_type": "code",
   "execution_count": 5,
   "metadata": {},
   "outputs": [
    {
     "name": "stdout",
     "output_type": "stream",
     "text": [
      "2013-10-21 00:00:00\n",
      "2006-09-19 00:00:00\n"
     ]
    }
   ],
   "source": [
    "print df['Date'].max()\n",
    "print df['Date'].min()"
   ]
  },
  {
   "cell_type": "markdown",
   "metadata": {},
   "source": [
    "## Create lists & graphs of the best and worst places to swim in the dataset."
   ]
  },
  {
   "cell_type": "code",
   "execution_count": 6,
   "metadata": {},
   "outputs": [
    {
     "data": {
      "text/html": [
       "<div>\n",
       "<table border=\"1\" class=\"dataframe\">\n",
       "  <thead>\n",
       "    <tr style=\"text-align: right;\">\n",
       "      <th></th>\n",
       "      <th>Site</th>\n",
       "      <th>EnteroCount</th>\n",
       "    </tr>\n",
       "  </thead>\n",
       "  <tbody>\n",
       "    <tr>\n",
       "      <th>0</th>\n",
       "      <td>Poughkeepsie Drinking Water Intake</td>\n",
       "      <td>8.342105</td>\n",
       "    </tr>\n",
       "    <tr>\n",
       "      <th>1</th>\n",
       "      <td>Croton Point Beach</td>\n",
       "      <td>15.458333</td>\n",
       "    </tr>\n",
       "    <tr>\n",
       "      <th>2</th>\n",
       "      <td>Stony Point mid-channel</td>\n",
       "      <td>17.340909</td>\n",
       "    </tr>\n",
       "    <tr>\n",
       "      <th>3</th>\n",
       "      <td>Little Stony Point</td>\n",
       "      <td>17.526316</td>\n",
       "    </tr>\n",
       "    <tr>\n",
       "      <th>4</th>\n",
       "      <td>Poughkeepsie Launch Ramp</td>\n",
       "      <td>17.675676</td>\n",
       "    </tr>\n",
       "  </tbody>\n",
       "</table>\n",
       "</div>"
      ],
      "text/plain": [
       "                                 Site  EnteroCount\n",
       "0  Poughkeepsie Drinking Water Intake     8.342105\n",
       "1                  Croton Point Beach    15.458333\n",
       "2             Stony Point mid-channel    17.340909\n",
       "3                  Little Stony Point    17.526316\n",
       "4            Poughkeepsie Launch Ramp    17.675676"
      ]
     },
     "execution_count": 6,
     "metadata": {},
     "output_type": "execute_result"
    }
   ],
   "source": [
    "sitemeans = df.groupby(df['Site'])[\"EnteroCount\"].mean().reset_index()\n",
    "BestSwim = sitemeans.sort_values('EnteroCount').reset_index(drop=True)[0:8]\n",
    "BestSwim.head()"
   ]
  },
  {
   "cell_type": "code",
   "execution_count": 7,
   "metadata": {},
   "outputs": [
    {
     "data": {
      "text/plain": [
       "<matplotlib.text.Text at 0x109885c50>"
      ]
     },
     "execution_count": 7,
     "metadata": {},
     "output_type": "execute_result"
    },
    {
     "data": {
      "image/png": "[encoded data removed]",
      "text/plain": [
       "<matplotlib.figure.Figure at 0x108fa0410>"
      ]
     },
     "metadata": {},
     "output_type": "display_data"
    }
   ],
   "source": [
    "p = sns.barplot(y=\"Site\", x=\"EnteroCount\", data=BestSwim, order=BestSwim['Site'].values, palette=\"Greens_r\")\n",
    "p.set_ylabel('')\n",
    "p.set_xlabel('Mean Enterococcus Count')\n",
    "p.set_title('Best 8 Hudson River Sites to Safely Swim, 2006-2013')"
   ]
  },
  {
   "cell_type": "code",
   "execution_count": 8,
   "metadata": {},
   "outputs": [
    {
     "data": {
      "text/html": [
       "<div>\n",
       "<table border=\"1\" class=\"dataframe\">\n",
       "  <thead>\n",
       "    <tr style=\"text-align: right;\">\n",
       "      <th></th>\n",
       "      <th>Site</th>\n",
       "      <th>EnteroCount</th>\n",
       "    </tr>\n",
       "  </thead>\n",
       "  <tbody>\n",
       "    <tr>\n",
       "      <th>0</th>\n",
       "      <td>Gowanus Canal</td>\n",
       "      <td>4206.837838</td>\n",
       "    </tr>\n",
       "    <tr>\n",
       "      <th>1</th>\n",
       "      <td>Newtown Creek- Metropolitan Ave. Bridge</td>\n",
       "      <td>2953.684211</td>\n",
       "    </tr>\n",
       "    <tr>\n",
       "      <th>2</th>\n",
       "      <td>Tarrytown Marina</td>\n",
       "      <td>2205.666667</td>\n",
       "    </tr>\n",
       "    <tr>\n",
       "      <th>3</th>\n",
       "      <td>Saw Mill River</td>\n",
       "      <td>1455.760000</td>\n",
       "    </tr>\n",
       "    <tr>\n",
       "      <th>4</th>\n",
       "      <td>Upper Sparkill Creek</td>\n",
       "      <td>1296.072727</td>\n",
       "    </tr>\n",
       "  </tbody>\n",
       "</table>\n",
       "</div>"
      ],
      "text/plain": [
       "                                      Site  EnteroCount\n",
       "0                            Gowanus Canal  4206.837838\n",
       "1  Newtown Creek- Metropolitan Ave. Bridge  2953.684211\n",
       "2                         Tarrytown Marina  2205.666667\n",
       "3                           Saw Mill River  1455.760000\n",
       "4                     Upper Sparkill Creek  1296.072727"
      ]
     },
     "execution_count": 8,
     "metadata": {},
     "output_type": "execute_result"
    }
   ],
   "source": [
    "WorstSwim = sitemeans.sort_values('EnteroCount', ascending=False).reset_index(drop=True)[0:8]\n",
    "WorstSwim.head()"
   ]
  },
  {
   "cell_type": "code",
   "execution_count": 9,
   "metadata": {},
   "outputs": [
    {
     "data": {
      "text/plain": [
       "<matplotlib.text.Text at 0x1099f45d0>"
      ]
     },
     "execution_count": 9,
     "metadata": {},
     "output_type": "execute_result"
    },
    {
     "data": {
      "image/png": "[encoded data removed]",
      "text/plain": [
       "<matplotlib.figure.Figure at 0x1098ebf50>"
      ]
     },
     "metadata": {},
     "output_type": "display_data"
    }
   ],
   "source": [
    "p = sns.barplot(y=\"Site\", x=\"EnteroCount\", data=WorstSwim, order=WorstSwim['Site'].values, palette=\"Reds_r\")\n",
    "p.set_ylabel('')\n",
    "p.set_xlabel('Mean Enterococcus Count')\n",
    "p.set_title('Worst 8 Hudson River Sites to Safely Swim, 2006-2013')"
   ]
  },
  {
   "cell_type": "markdown",
   "metadata": {},
   "source": [
    "## The testing of water quality can be sporadic. Which sites have been tested most regularly? Which ones have long gaps between tests? Pick out 5-10 sites and visually compare how regularly their water quality is tested."
   ]
  },
  {
   "cell_type": "code",
   "execution_count": 10,
   "metadata": {},
   "outputs": [
    {
     "data": {
      "text/plain": [
       "Site\n",
       "Piermont Pier            187\n",
       "Upper Sparkill Creek     165\n",
       "125th St. Pier            66\n",
       "Nyack Launch Ramp         61\n",
       "TZ Bridge mid-channel     57\n",
       "Name: Date, dtype: int64"
      ]
     },
     "execution_count": 10,
     "metadata": {},
     "output_type": "execute_result"
    }
   ],
   "source": [
    "SiteCounts = df.groupby(by=[\"Site\"])[\"Date\"].count()\n",
    "SiteCounts.sort_values(ascending=False, inplace=True)\n",
    "SiteCounts.head()"
   ]
  },
  {
   "cell_type": "code",
   "execution_count": 11,
   "metadata": {},
   "outputs": [
    {
     "data": {
      "text/html": [
       "<div>\n",
       "<table border=\"1\" class=\"dataframe\">\n",
       "  <thead>\n",
       "    <tr style=\"text-align: right;\">\n",
       "      <th></th>\n",
       "      <th>Site</th>\n",
       "      <th>Date</th>\n",
       "      <th>EnteroCount</th>\n",
       "      <th>FourDayRainTotal</th>\n",
       "      <th>SampleCount</th>\n",
       "      <th>DatePrior</th>\n",
       "      <th>DaysSinceLast</th>\n",
       "    </tr>\n",
       "  </thead>\n",
       "  <tbody>\n",
       "    <tr>\n",
       "      <th>2923</th>\n",
       "      <td>125th St. Pier</td>\n",
       "      <td>2006-10-02</td>\n",
       "      <td>1433</td>\n",
       "      <td>0.5</td>\n",
       "      <td>66</td>\n",
       "      <td>2006-10-02</td>\n",
       "      <td>0.0</td>\n",
       "    </tr>\n",
       "    <tr>\n",
       "      <th>2919</th>\n",
       "      <td>125th St. Pier</td>\n",
       "      <td>2006-10-03</td>\n",
       "      <td>773</td>\n",
       "      <td>0.4</td>\n",
       "      <td>66</td>\n",
       "      <td>2006-10-02</td>\n",
       "      <td>1.0</td>\n",
       "    </tr>\n",
       "    <tr>\n",
       "      <th>2917</th>\n",
       "      <td>125th St. Pier</td>\n",
       "      <td>2006-10-06</td>\n",
       "      <td>824</td>\n",
       "      <td>0.7</td>\n",
       "      <td>66</td>\n",
       "      <td>2006-10-03</td>\n",
       "      <td>3.0</td>\n",
       "    </tr>\n",
       "    <tr>\n",
       "      <th>2916</th>\n",
       "      <td>125th St. Pier</td>\n",
       "      <td>2006-10-11</td>\n",
       "      <td>269</td>\n",
       "      <td>0.4</td>\n",
       "      <td>66</td>\n",
       "      <td>2006-10-06</td>\n",
       "      <td>5.0</td>\n",
       "    </tr>\n",
       "    <tr>\n",
       "      <th>2915</th>\n",
       "      <td>125th St. Pier</td>\n",
       "      <td>2006-10-12</td>\n",
       "      <td>305</td>\n",
       "      <td>1.9</td>\n",
       "      <td>66</td>\n",
       "      <td>2006-10-11</td>\n",
       "      <td>1.0</td>\n",
       "    </tr>\n",
       "  </tbody>\n",
       "</table>\n",
       "</div>"
      ],
      "text/plain": [
       "                Site       Date  EnteroCount  FourDayRainTotal  SampleCount  \\\n",
       "2923  125th St. Pier 2006-10-02         1433               0.5           66   \n",
       "2919  125th St. Pier 2006-10-03          773               0.4           66   \n",
       "2917  125th St. Pier 2006-10-06          824               0.7           66   \n",
       "2916  125th St. Pier 2006-10-11          269               0.4           66   \n",
       "2915  125th St. Pier 2006-10-12          305               1.9           66   \n",
       "\n",
       "      DatePrior  DaysSinceLast  \n",
       "2923 2006-10-02            0.0  \n",
       "2919 2006-10-02            1.0  \n",
       "2917 2006-10-03            3.0  \n",
       "2916 2006-10-06            5.0  \n",
       "2915 2006-10-11            1.0  "
      ]
     },
     "execution_count": 11,
     "metadata": {},
     "output_type": "execute_result"
    }
   ],
   "source": [
    "df = df.sort_values(['Site', 'Date'], ascending=[True, True])\n",
    "df[\"DatePrior\"] = df.groupby([\"Site\"])[\"Date\"].shift(1)\n",
    "df[\"DatePrior\"].fillna(df[\"Date\"], inplace=True)\n",
    "df[\"DaysSinceLast\"] = df[\"Date\"].subtract(df['DatePrior']).astype('timedelta64[D]')\n",
    "df.head()"
   ]
  },
  {
   "cell_type": "code",
   "execution_count": 12,
   "metadata": {},
   "outputs": [
    {
     "data": {
      "text/html": [
       "<div>\n",
       "<table border=\"1\" class=\"dataframe\">\n",
       "  <thead>\n",
       "    <tr style=\"text-align: right;\">\n",
       "      <th></th>\n",
       "      <th>Site</th>\n",
       "      <th>DaysSinceLast</th>\n",
       "      <th>std</th>\n",
       "      <th>mean</th>\n",
       "    </tr>\n",
       "  </thead>\n",
       "  <tbody>\n",
       "    <tr>\n",
       "      <th>2919</th>\n",
       "      <td>125th St. Pier</td>\n",
       "      <td>1.0</td>\n",
       "      <td>65.57201</td>\n",
       "      <td>39.553846</td>\n",
       "    </tr>\n",
       "    <tr>\n",
       "      <th>2917</th>\n",
       "      <td>125th St. Pier</td>\n",
       "      <td>3.0</td>\n",
       "      <td>65.57201</td>\n",
       "      <td>39.553846</td>\n",
       "    </tr>\n",
       "    <tr>\n",
       "      <th>2916</th>\n",
       "      <td>125th St. Pier</td>\n",
       "      <td>5.0</td>\n",
       "      <td>65.57201</td>\n",
       "      <td>39.553846</td>\n",
       "    </tr>\n",
       "    <tr>\n",
       "      <th>2915</th>\n",
       "      <td>125th St. Pier</td>\n",
       "      <td>1.0</td>\n",
       "      <td>65.57201</td>\n",
       "      <td>39.553846</td>\n",
       "    </tr>\n",
       "    <tr>\n",
       "      <th>2914</th>\n",
       "      <td>125th St. Pier</td>\n",
       "      <td>19.0</td>\n",
       "      <td>65.57201</td>\n",
       "      <td>39.553846</td>\n",
       "    </tr>\n",
       "  </tbody>\n",
       "</table>\n",
       "</div>"
      ],
      "text/plain": [
       "                Site  DaysSinceLast       std       mean\n",
       "2919  125th St. Pier            1.0  65.57201  39.553846\n",
       "2917  125th St. Pier            3.0  65.57201  39.553846\n",
       "2916  125th St. Pier            5.0  65.57201  39.553846\n",
       "2915  125th St. Pier            1.0  65.57201  39.553846\n",
       "2914  125th St. Pier           19.0  65.57201  39.553846"
      ]
     },
     "execution_count": 12,
     "metadata": {},
     "output_type": "execute_result"
    }
   ],
   "source": [
    "df2 = df[['Site','DaysSinceLast']]\n",
    "df2 = df2.loc[df2['DaysSinceLast'] != 0]\n",
    "df2['std'] = df2['DaysSinceLast'].groupby(df2['Site']).transform('std')\n",
    "df2['mean'] = df2['DaysSinceLast'].groupby(df2['Site']).transform('mean')\n",
    "df2.head()"
   ]
  },
  {
   "cell_type": "code",
   "execution_count": 13,
   "metadata": {},
   "outputs": [],
   "source": [
    "# Let's get the sites with the most and least variability\n",
    "bottom = df2['std'].quantile(.2) \n",
    "top = df2['std'].quantile(.98)\n",
    "\n",
    "LowestVar = df2.loc[df2['std'] < bottom].reset_index(drop=True)\n",
    "HighestVar = df2.loc[df2['std'] > top].reset_index(drop=True)\n",
    "\n",
    "All = LowestVar.append(HighestVar, ignore_index=True).reset_index(drop=True)"
   ]
  },
  {
   "cell_type": "code",
   "execution_count": 14,
   "metadata": {},
   "outputs": [
    {
     "data": {
      "text/html": [
       "<div>\n",
       "<table border=\"1\" class=\"dataframe\">\n",
       "  <thead>\n",
       "    <tr style=\"text-align: right;\">\n",
       "      <th></th>\n",
       "      <th>Site</th>\n",
       "      <th>DaysSinceLast</th>\n",
       "      <th>std</th>\n",
       "      <th>mean</th>\n",
       "    </tr>\n",
       "  </thead>\n",
       "  <tbody>\n",
       "    <tr>\n",
       "      <th>565</th>\n",
       "      <td>Upper Sparkill Creek</td>\n",
       "      <td>7.0</td>\n",
       "      <td>31.828441</td>\n",
       "      <td>13.719512</td>\n",
       "    </tr>\n",
       "    <tr>\n",
       "      <th>603</th>\n",
       "      <td>Upper Sparkill Creek</td>\n",
       "      <td>8.0</td>\n",
       "      <td>31.828441</td>\n",
       "      <td>13.719512</td>\n",
       "    </tr>\n",
       "    <tr>\n",
       "      <th>495</th>\n",
       "      <td>Upper Sparkill Creek</td>\n",
       "      <td>1.0</td>\n",
       "      <td>31.828441</td>\n",
       "      <td>13.719512</td>\n",
       "    </tr>\n",
       "    <tr>\n",
       "      <th>494</th>\n",
       "      <td>Upper Sparkill Creek</td>\n",
       "      <td>2.0</td>\n",
       "      <td>31.828441</td>\n",
       "      <td>13.719512</td>\n",
       "    </tr>\n",
       "    <tr>\n",
       "      <th>493</th>\n",
       "      <td>Upper Sparkill Creek</td>\n",
       "      <td>1.0</td>\n",
       "      <td>31.828441</td>\n",
       "      <td>13.719512</td>\n",
       "    </tr>\n",
       "  </tbody>\n",
       "</table>\n",
       "</div>"
      ],
      "text/plain": [
       "                     Site  DaysSinceLast        std       mean\n",
       "565  Upper Sparkill Creek            7.0  31.828441  13.719512\n",
       "603  Upper Sparkill Creek            8.0  31.828441  13.719512\n",
       "495  Upper Sparkill Creek            1.0  31.828441  13.719512\n",
       "494  Upper Sparkill Creek            2.0  31.828441  13.719512\n",
       "493  Upper Sparkill Creek            1.0  31.828441  13.719512"
      ]
     },
     "execution_count": 14,
     "metadata": {},
     "output_type": "execute_result"
    }
   ],
   "source": [
    "All['Site'] = All['Site'].astype('object')\n",
    "All = All.sort_values(['mean'], ascending=[True])\n",
    "All.head()"
   ]
  },
  {
   "cell_type": "code",
   "execution_count": 15,
   "metadata": {},
   "outputs": [
    {
     "data": {
      "text/plain": [
       "<matplotlib.text.Text at 0x109bbe590>"
      ]
     },
     "execution_count": 15,
     "metadata": {},
     "output_type": "execute_result"
    },
    {
     "data": {
      "image/png": "[encoded data removed]",
      "text/plain": [
       "<matplotlib.figure.Figure at 0x109a560d0>"
      ]
     },
     "metadata": {},
     "output_type": "display_data"
    }
   ],
   "source": [
    "p2 = sns.pointplot(data=All, y=\"Site\", x=\"DaysSinceLast\")\n",
    "p2.set_ylabel('')\n",
    "p2.set_xlabel('Days Between Testing')\n",
    "p2.set_title('Hudson River Site Testing Frequency, 2006-2013  \\nTop and Bottom 2% of Variability')"
   ]
  },
  {
   "cell_type": "markdown",
   "metadata": {},
   "source": [
    "## Is there a relationship between the amount of rain and water quality? Show this relationship graphically. If you can, estimate the effect of rain on quality at different sites and create a visualization to compare them."
   ]
  },
  {
   "cell_type": "code",
   "execution_count": 16,
   "metadata": {},
   "outputs": [
    {
     "data": {
      "text/plain": [
       "<seaborn.axisgrid.JointGrid at 0x109c6b950>"
      ]
     },
     "execution_count": 16,
     "metadata": {},
     "output_type": "execute_result"
    },
    {
     "data": {
      "image/png": "[encoded data removed]",
      "text/plain": [
       "<matplotlib.figure.Figure at 0x109c6b3d0>"
      ]
     },
     "metadata": {},
     "output_type": "display_data"
    }
   ],
   "source": [
    "Subset = df[df.EnteroCount < 3000] # Superfund removal\n",
    "sns.jointplot(\"FourDayRainTotal\", \"EnteroCount\", Subset, kind=\"reg\")"
   ]
  },
  {
   "cell_type": "code",
   "execution_count": 17,
   "metadata": {},
   "outputs": [
    {
     "data": {
      "text/html": [
       "<div>\n",
       "<table border=\"1\" class=\"dataframe\">\n",
       "  <thead>\n",
       "    <tr style=\"text-align: right;\">\n",
       "      <th></th>\n",
       "      <th>Site</th>\n",
       "      <th>FourDayRainTotal</th>\n",
       "    </tr>\n",
       "  </thead>\n",
       "  <tbody>\n",
       "    <tr>\n",
       "      <th>0</th>\n",
       "      <td>West Point STP Outfall</td>\n",
       "      <td>0.280556</td>\n",
       "    </tr>\n",
       "    <tr>\n",
       "      <th>1</th>\n",
       "      <td>Gay's Point mid-channel</td>\n",
       "      <td>0.580556</td>\n",
       "    </tr>\n",
       "    <tr>\n",
       "      <th>2</th>\n",
       "      <td>79th St. mid-channel</td>\n",
       "      <td>0.861224</td>\n",
       "    </tr>\n",
       "  </tbody>\n",
       "</table>\n",
       "</div>"
      ],
      "text/plain": [
       "                      Site  FourDayRainTotal\n",
       "0   West Point STP Outfall          0.280556\n",
       "1  Gay's Point mid-channel          0.580556\n",
       "2     79th St. mid-channel          0.861224"
      ]
     },
     "execution_count": 17,
     "metadata": {},
     "output_type": "execute_result"
    }
   ],
   "source": [
    "RFTotal = df.groupby(by=[\"Site\"])['FourDayRainTotal'].mean().reset_index()\n",
    "LeastRF_Site = RFTotal.loc[RFTotal['FourDayRainTotal'] == RFTotal.FourDayRainTotal.min()]\n",
    "MiddleRF_Site = RFTotal.loc[RFTotal['FourDayRainTotal'] == RFTotal.FourDayRainTotal.median()]\n",
    "MiddleRF_Site = MiddleRF_Site.sample(1)\n",
    "MaxRF_Site = RFTotal.loc[RFTotal['FourDayRainTotal'] == RFTotal.FourDayRainTotal.max()]\n",
    "\n",
    "RFSiteExtremes = LeastRF_Site.append(MiddleRF_Site, ignore_index=True).append(MaxRF_Site, ignore_index=True)\n",
    "RFSiteExtremes"
   ]
  },
  {
   "cell_type": "code",
   "execution_count": 18,
   "metadata": {},
   "outputs": [],
   "source": [
    "Min = Subset.loc[df['Site']==RFSiteExtremes.Site[0]]\n",
    "Mid = Subset.loc[df['Site']==RFSiteExtremes.Site[1]]\n",
    "Max = Subset.loc[df['Site']==RFSiteExtremes.Site[2]]"
   ]
  },
  {
   "cell_type": "code",
   "execution_count": 19,
   "metadata": {},
   "outputs": [
    {
     "name": "stdout",
     "output_type": "stream",
     "text": [
      "West Point STP Outfall\n"
     ]
    },
    {
     "data": {
      "text/plain": [
       "<seaborn.axisgrid.JointGrid at 0x109a2ff10>"
      ]
     },
     "execution_count": 19,
     "metadata": {},
     "output_type": "execute_result"
    },
    {
     "data": {
      "image/png": "[encoded data removed]",
      "text/plain": [
       "<matplotlib.figure.Figure at 0x109e9d690>"
      ]
     },
     "metadata": {},
     "output_type": "display_data"
    }
   ],
   "source": [
    "print RFSiteExtremes.Site[0]\n",
    "sns.jointplot(\"FourDayRainTotal\", \"EnteroCount\", Min, kind=\"reg\")"
   ]
  },
  {
   "cell_type": "code",
   "execution_count": 20,
   "metadata": {},
   "outputs": [
    {
     "name": "stdout",
     "output_type": "stream",
     "text": [
      "Gay's Point mid-channel\n"
     ]
    },
    {
     "data": {
      "text/plain": [
       "<seaborn.axisgrid.JointGrid at 0x10a11dd50>"
      ]
     },
     "execution_count": 20,
     "metadata": {},
     "output_type": "execute_result"
    },
    {
     "data": {
      "image/png": "[encoded data removed]",
      "text/plain": [
       "<matplotlib.figure.Figure at 0x10a2a43d0>"
      ]
     },
     "metadata": {},
     "output_type": "display_data"
    }
   ],
   "source": [
    "print RFSiteExtremes.Site[1]\n",
    "sns.jointplot(\"FourDayRainTotal\", \"EnteroCount\", Mid, kind=\"reg\")"
   ]
  },
  {
   "cell_type": "code",
   "execution_count": 21,
   "metadata": {},
   "outputs": [
    {
     "name": "stdout",
     "output_type": "stream",
     "text": [
      "79th St. mid-channel\n"
     ]
    },
    {
     "data": {
      "text/plain": [
       "<seaborn.axisgrid.JointGrid at 0x10ac7ba10>"
      ]
     },
     "execution_count": 21,
     "metadata": {},
     "output_type": "execute_result"
    },
    {
     "data": {
      "image/png": "[encoded data removed]",
      "text/plain": [
       "<matplotlib.figure.Figure at 0x10a7cbcd0>"
      ]
     },
     "metadata": {},
     "output_type": "display_data"
    }
   ],
   "source": [
    "print RFSiteExtremes.Site[2]\n",
    "sns.jointplot(\"FourDayRainTotal\", \"EnteroCount\", Max, kind=\"reg\")"
   ]
  },
  {
   "cell_type": "markdown",
   "metadata": {},
   "source": [
    "What's interesting here is that for the samples sites we're looking at (sites with little and lots of rainfall) there isn't much of a correlation (using Pearson's Method) between Four Day Rain Total and Enterococcus count.   For a Site that has an average amount of rainfall, there is.   What this might imply is that for the average site, if they git hit by a lot of rain and have sewer issues, there is additional drainage of Fecal matter into the Hudson.\n",
    "\n",
    "# References\n",
    "\n",
    "* https://stackoverflow.com/questions/23543909/plotting-pandas-timedelta\n",
    "* http://seaborn.pydata.org/generated/seaborn.pointplot.html"
   ]
  }
 ],
 "metadata": {
  "kernelspec": {
   "display_name": "Python 2",
   "language": "python",
   "name": "python2"
  },
  "language_info": {
   "codemirror_mode": {
    "name": "ipython",
    "version": 2
   },
   "file_extension": ".py",
   "mimetype": "text/x-python",
   "name": "python",
   "nbconvert_exporter": "python",
   "pygments_lexer": "ipython2",
   "version": "2.7.10"
  }
 },
 "nbformat": 4,
 "nbformat_minor": 2
}
